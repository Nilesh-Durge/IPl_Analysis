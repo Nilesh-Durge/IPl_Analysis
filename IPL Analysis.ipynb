{
 "cells": [
  {
   "cell_type": "code",
   "execution_count": 1,
   "id": "fa11c465",
   "metadata": {},
   "outputs": [],
   "source": [
    "#importing libraries \n",
    "import pandas as pd\n",
    "import numpy as np\n",
    "import seaborn as sns\n",
    "from matplotlib import pyplot as plt"
   ]
  },
  {
   "cell_type": "code",
   "execution_count": 2,
   "id": "0aaa28d5",
   "metadata": {},
   "outputs": [],
   "source": [
    "#loading files \n",
    "ipl = pd.read_csv(\"IPL.csv\")"
   ]
  },
  {
   "cell_type": "code",
   "execution_count": 3,
   "id": "a8205719",
   "metadata": {},
   "outputs": [
    {
     "data": {
      "text/html": [
       "<div>\n",
       "<style scoped>\n",
       "    .dataframe tbody tr th:only-of-type {\n",
       "        vertical-align: middle;\n",
       "    }\n",
       "\n",
       "    .dataframe tbody tr th {\n",
       "        vertical-align: top;\n",
       "    }\n",
       "\n",
       "    .dataframe thead th {\n",
       "        text-align: right;\n",
       "    }\n",
       "</style>\n",
       "<table border=\"1\" class=\"dataframe\">\n",
       "  <thead>\n",
       "    <tr style=\"text-align: right;\">\n",
       "      <th></th>\n",
       "      <th>id</th>\n",
       "      <th>city</th>\n",
       "      <th>date</th>\n",
       "      <th>player_of_match</th>\n",
       "      <th>venue</th>\n",
       "      <th>neutral_venue</th>\n",
       "      <th>team1</th>\n",
       "      <th>team2</th>\n",
       "      <th>toss_winner</th>\n",
       "      <th>toss_decision</th>\n",
       "      <th>winner</th>\n",
       "      <th>result</th>\n",
       "      <th>result_margin</th>\n",
       "      <th>eliminator</th>\n",
       "      <th>method</th>\n",
       "      <th>umpire1</th>\n",
       "      <th>umpire2</th>\n",
       "    </tr>\n",
       "  </thead>\n",
       "  <tbody>\n",
       "    <tr>\n",
       "      <th>0</th>\n",
       "      <td>335982</td>\n",
       "      <td>Bangalore</td>\n",
       "      <td>2008-04-18</td>\n",
       "      <td>BB McCullum</td>\n",
       "      <td>M Chinnaswamy Stadium</td>\n",
       "      <td>0</td>\n",
       "      <td>Royal Challengers Bangalore</td>\n",
       "      <td>Kolkata Knight Riders</td>\n",
       "      <td>Royal Challengers Bangalore</td>\n",
       "      <td>field</td>\n",
       "      <td>Kolkata Knight Riders</td>\n",
       "      <td>runs</td>\n",
       "      <td>140.0</td>\n",
       "      <td>N</td>\n",
       "      <td>NaN</td>\n",
       "      <td>Asad Rauf</td>\n",
       "      <td>RE Koertzen</td>\n",
       "    </tr>\n",
       "    <tr>\n",
       "      <th>1</th>\n",
       "      <td>335983</td>\n",
       "      <td>Chandigarh</td>\n",
       "      <td>2008-04-19</td>\n",
       "      <td>MEK Hussey</td>\n",
       "      <td>Punjab Cricket Association Stadium, Mohali</td>\n",
       "      <td>0</td>\n",
       "      <td>Kings XI Punjab</td>\n",
       "      <td>Chennai Super Kings</td>\n",
       "      <td>Chennai Super Kings</td>\n",
       "      <td>bat</td>\n",
       "      <td>Chennai Super Kings</td>\n",
       "      <td>runs</td>\n",
       "      <td>33.0</td>\n",
       "      <td>N</td>\n",
       "      <td>NaN</td>\n",
       "      <td>MR Benson</td>\n",
       "      <td>SL Shastri</td>\n",
       "    </tr>\n",
       "    <tr>\n",
       "      <th>2</th>\n",
       "      <td>335984</td>\n",
       "      <td>Delhi</td>\n",
       "      <td>2008-04-19</td>\n",
       "      <td>MF Maharoof</td>\n",
       "      <td>Feroz Shah Kotla</td>\n",
       "      <td>0</td>\n",
       "      <td>Delhi Daredevils</td>\n",
       "      <td>Rajasthan Royals</td>\n",
       "      <td>Rajasthan Royals</td>\n",
       "      <td>bat</td>\n",
       "      <td>Delhi Daredevils</td>\n",
       "      <td>wickets</td>\n",
       "      <td>9.0</td>\n",
       "      <td>N</td>\n",
       "      <td>NaN</td>\n",
       "      <td>Aleem Dar</td>\n",
       "      <td>GA Pratapkumar</td>\n",
       "    </tr>\n",
       "    <tr>\n",
       "      <th>3</th>\n",
       "      <td>335985</td>\n",
       "      <td>Mumbai</td>\n",
       "      <td>2008-04-20</td>\n",
       "      <td>MV Boucher</td>\n",
       "      <td>Wankhede Stadium</td>\n",
       "      <td>0</td>\n",
       "      <td>Mumbai Indians</td>\n",
       "      <td>Royal Challengers Bangalore</td>\n",
       "      <td>Mumbai Indians</td>\n",
       "      <td>bat</td>\n",
       "      <td>Royal Challengers Bangalore</td>\n",
       "      <td>wickets</td>\n",
       "      <td>5.0</td>\n",
       "      <td>N</td>\n",
       "      <td>NaN</td>\n",
       "      <td>SJ Davis</td>\n",
       "      <td>DJ Harper</td>\n",
       "    </tr>\n",
       "    <tr>\n",
       "      <th>4</th>\n",
       "      <td>335986</td>\n",
       "      <td>Kolkata</td>\n",
       "      <td>2008-04-20</td>\n",
       "      <td>DJ Hussey</td>\n",
       "      <td>Eden Gardens</td>\n",
       "      <td>0</td>\n",
       "      <td>Kolkata Knight Riders</td>\n",
       "      <td>Deccan Chargers</td>\n",
       "      <td>Deccan Chargers</td>\n",
       "      <td>bat</td>\n",
       "      <td>Kolkata Knight Riders</td>\n",
       "      <td>wickets</td>\n",
       "      <td>5.0</td>\n",
       "      <td>N</td>\n",
       "      <td>NaN</td>\n",
       "      <td>BF Bowden</td>\n",
       "      <td>K Hariharan</td>\n",
       "    </tr>\n",
       "  </tbody>\n",
       "</table>\n",
       "</div>"
      ],
      "text/plain": [
       "       id        city        date player_of_match  \\\n",
       "0  335982   Bangalore  2008-04-18     BB McCullum   \n",
       "1  335983  Chandigarh  2008-04-19      MEK Hussey   \n",
       "2  335984       Delhi  2008-04-19     MF Maharoof   \n",
       "3  335985      Mumbai  2008-04-20      MV Boucher   \n",
       "4  335986     Kolkata  2008-04-20       DJ Hussey   \n",
       "\n",
       "                                        venue  neutral_venue  \\\n",
       "0                       M Chinnaswamy Stadium              0   \n",
       "1  Punjab Cricket Association Stadium, Mohali              0   \n",
       "2                            Feroz Shah Kotla              0   \n",
       "3                            Wankhede Stadium              0   \n",
       "4                                Eden Gardens              0   \n",
       "\n",
       "                         team1                        team2  \\\n",
       "0  Royal Challengers Bangalore        Kolkata Knight Riders   \n",
       "1              Kings XI Punjab          Chennai Super Kings   \n",
       "2             Delhi Daredevils             Rajasthan Royals   \n",
       "3               Mumbai Indians  Royal Challengers Bangalore   \n",
       "4        Kolkata Knight Riders              Deccan Chargers   \n",
       "\n",
       "                   toss_winner toss_decision                       winner  \\\n",
       "0  Royal Challengers Bangalore         field        Kolkata Knight Riders   \n",
       "1          Chennai Super Kings           bat          Chennai Super Kings   \n",
       "2             Rajasthan Royals           bat             Delhi Daredevils   \n",
       "3               Mumbai Indians           bat  Royal Challengers Bangalore   \n",
       "4              Deccan Chargers           bat        Kolkata Knight Riders   \n",
       "\n",
       "    result  result_margin eliminator method    umpire1         umpire2  \n",
       "0     runs          140.0          N    NaN  Asad Rauf     RE Koertzen  \n",
       "1     runs           33.0          N    NaN  MR Benson      SL Shastri  \n",
       "2  wickets            9.0          N    NaN  Aleem Dar  GA Pratapkumar  \n",
       "3  wickets            5.0          N    NaN   SJ Davis       DJ Harper  \n",
       "4  wickets            5.0          N    NaN  BF Bowden     K Hariharan  "
      ]
     },
     "execution_count": 3,
     "metadata": {},
     "output_type": "execute_result"
    }
   ],
   "source": [
    "ipl.head(5)\n"
   ]
  },
  {
   "cell_type": "code",
   "execution_count": 4,
   "id": "80ebef67",
   "metadata": {},
   "outputs": [
    {
     "data": {
      "text/plain": [
       "(816, 17)"
      ]
     },
     "execution_count": 4,
     "metadata": {},
     "output_type": "execute_result"
    }
   ],
   "source": [
    "ipl.shape"
   ]
  },
  {
   "cell_type": "code",
   "execution_count": 5,
   "id": "feedea7a",
   "metadata": {},
   "outputs": [
    {
     "data": {
      "text/plain": [
       "id                   0\n",
       "city                13\n",
       "date                 0\n",
       "player_of_match      4\n",
       "venue                0\n",
       "neutral_venue        0\n",
       "team1                0\n",
       "team2                0\n",
       "toss_winner          0\n",
       "toss_decision        0\n",
       "winner               4\n",
       "result               4\n",
       "result_margin       17\n",
       "eliminator           4\n",
       "method             797\n",
       "umpire1              0\n",
       "umpire2              0\n",
       "dtype: int64"
      ]
     },
     "execution_count": 5,
     "metadata": {},
     "output_type": "execute_result"
    }
   ],
   "source": [
    "#Data Cleaning \n",
    "ipl.isnull().sum()"
   ]
  },
  {
   "cell_type": "raw",
   "id": "a10b3a61",
   "metadata": {},
   "source": [
    "#find who is the man of the match for top 10\n",
    "top_10 = ipl[\"player_of_match\"].value_counts()[:10]\n",
    "top_10"
   ]
  },
  {
   "cell_type": "code",
   "execution_count": 6,
   "id": "ae56622b",
   "metadata": {},
   "outputs": [
    {
     "data": {
      "text/plain": [
       "AB de Villiers    23\n",
       "CH Gayle          22\n",
       "RG Sharma         18\n",
       "DA Warner         17\n",
       "MS Dhoni          17\n",
       "Name: player_of_match, dtype: int64"
      ]
     },
     "execution_count": 6,
     "metadata": {},
     "output_type": "execute_result"
    }
   ],
   "source": [
    "top_player = ipl[\"player_of_match\"].value_counts()[:5]\n",
    "top_player"
   ]
  },
  {
   "cell_type": "code",
   "execution_count": 7,
   "id": "b5405a0f",
   "metadata": {},
   "outputs": [
    {
     "data": {
      "text/plain": [
       "['AB de Villiers', 'CH Gayle', 'RG Sharma', 'DA Warner', 'MS Dhoni']"
      ]
     },
     "execution_count": 7,
     "metadata": {},
     "output_type": "execute_result"
    }
   ],
   "source": [
    "keys = list(ipl[\"player_of_match\"].value_counts()[:5].keys())\n",
    "keys"
   ]
  },
  {
   "cell_type": "code",
   "execution_count": 8,
   "id": "6805cc57",
   "metadata": {},
   "outputs": [
    {
     "data": {
      "image/png": "[encoded data removed]",
      "text/plain": [
       "<Figure size 720x360 with 1 Axes>"
      ]
     },
     "metadata": {
      "needs_background": "light"
     },
     "output_type": "display_data"
    }
   ],
   "source": [
    "#Plot graph for top five players\n",
    "plt.figure(figsize = (10, 5))\n",
    "plt.bar(keys,top_player,color = \"maroon\",width = 0.4)\n",
    "plt.title(\"Man of the match\")\n",
    "plt.xlabel(\"Top Five players\")\n",
    "plt.ylabel(\"Number of matches\")\n",
    "plt.show()"
   ]
  },
  {
   "cell_type": "code",
   "execution_count": 9,
   "id": "736310b3",
   "metadata": {},
   "outputs": [
    {
     "data": {
      "text/plain": [
       "wickets    435\n",
       "runs       364\n",
       "tie         13\n",
       "Name: result, dtype: int64"
      ]
     },
     "execution_count": 9,
     "metadata": {},
     "output_type": "execute_result"
    }
   ],
   "source": [
    "#finding what was the result of the match \n",
    "result = ipl['result'].value_counts()\n",
    "result"
   ]
  },
  {
   "cell_type": "code",
   "execution_count": 10,
   "id": "b21b2270",
   "metadata": {},
   "outputs": [
    {
     "data": {
      "text/plain": [
       "Mumbai Indians                 106\n",
       "Kolkata Knight Riders           98\n",
       "Chennai Super Kings             97\n",
       "Royal Challengers Bangalore     87\n",
       "Rajasthan Royals                87\n",
       "Kings XI Punjab                 85\n",
       "Delhi Daredevils                80\n",
       "Sunrisers Hyderabad             57\n",
       "Deccan Chargers                 43\n",
       "Pune Warriors                   20\n",
       "Delhi Capitals                  20\n",
       "Gujarat Lions                   15\n",
       "Kochi Tuskers Kerala             8\n",
       "Rising Pune Supergiants          7\n",
       "Rising Pune Supergiant           6\n",
       "Name: toss_winner, dtype: int64"
      ]
     },
     "execution_count": 10,
     "metadata": {},
     "output_type": "execute_result"
    }
   ],
   "source": [
    "#who won the most of the toss \n",
    "toss = ipl[\"toss_winner\"].value_counts()\n",
    "toss"
   ]
  },
  {
   "cell_type": "code",
   "execution_count": 11,
   "id": "6d27ff4f",
   "metadata": {},
   "outputs": [
    {
     "data": {
      "text/html": [
       "<div>\n",
       "<style scoped>\n",
       "    .dataframe tbody tr th:only-of-type {\n",
       "        vertical-align: middle;\n",
       "    }\n",
       "\n",
       "    .dataframe tbody tr th {\n",
       "        vertical-align: top;\n",
       "    }\n",
       "\n",
       "    .dataframe thead th {\n",
       "        text-align: right;\n",
       "    }\n",
       "</style>\n",
       "<table border=\"1\" class=\"dataframe\">\n",
       "  <thead>\n",
       "    <tr style=\"text-align: right;\">\n",
       "      <th></th>\n",
       "      <th>id</th>\n",
       "      <th>city</th>\n",
       "      <th>date</th>\n",
       "      <th>player_of_match</th>\n",
       "      <th>venue</th>\n",
       "      <th>neutral_venue</th>\n",
       "      <th>team1</th>\n",
       "      <th>team2</th>\n",
       "      <th>toss_winner</th>\n",
       "      <th>toss_decision</th>\n",
       "      <th>winner</th>\n",
       "      <th>result</th>\n",
       "      <th>result_margin</th>\n",
       "      <th>eliminator</th>\n",
       "      <th>method</th>\n",
       "      <th>umpire1</th>\n",
       "      <th>umpire2</th>\n",
       "    </tr>\n",
       "  </thead>\n",
       "  <tbody>\n",
       "    <tr>\n",
       "      <th>1</th>\n",
       "      <td>335983</td>\n",
       "      <td>Chandigarh</td>\n",
       "      <td>2008-04-19</td>\n",
       "      <td>MEK Hussey</td>\n",
       "      <td>Punjab Cricket Association Stadium, Mohali</td>\n",
       "      <td>0</td>\n",
       "      <td>Kings XI Punjab</td>\n",
       "      <td>Chennai Super Kings</td>\n",
       "      <td>Chennai Super Kings</td>\n",
       "      <td>bat</td>\n",
       "      <td>Chennai Super Kings</td>\n",
       "      <td>runs</td>\n",
       "      <td>33.0</td>\n",
       "      <td>N</td>\n",
       "      <td>NaN</td>\n",
       "      <td>MR Benson</td>\n",
       "      <td>SL Shastri</td>\n",
       "    </tr>\n",
       "    <tr>\n",
       "      <th>14</th>\n",
       "      <td>335996</td>\n",
       "      <td>Bangalore</td>\n",
       "      <td>2008-04-28</td>\n",
       "      <td>MS Dhoni</td>\n",
       "      <td>M Chinnaswamy Stadium</td>\n",
       "      <td>0</td>\n",
       "      <td>Royal Challengers Bangalore</td>\n",
       "      <td>Chennai Super Kings</td>\n",
       "      <td>Chennai Super Kings</td>\n",
       "      <td>bat</td>\n",
       "      <td>Chennai Super Kings</td>\n",
       "      <td>runs</td>\n",
       "      <td>13.0</td>\n",
       "      <td>N</td>\n",
       "      <td>NaN</td>\n",
       "      <td>BR Doctrove</td>\n",
       "      <td>RB Tiffin</td>\n",
       "    </tr>\n",
       "    <tr>\n",
       "      <th>18</th>\n",
       "      <td>336000</td>\n",
       "      <td>Jaipur</td>\n",
       "      <td>2008-05-01</td>\n",
       "      <td>SA Asnodkar</td>\n",
       "      <td>Sawai Mansingh Stadium</td>\n",
       "      <td>0</td>\n",
       "      <td>Rajasthan Royals</td>\n",
       "      <td>Kolkata Knight Riders</td>\n",
       "      <td>Rajasthan Royals</td>\n",
       "      <td>bat</td>\n",
       "      <td>Rajasthan Royals</td>\n",
       "      <td>runs</td>\n",
       "      <td>45.0</td>\n",
       "      <td>N</td>\n",
       "      <td>NaN</td>\n",
       "      <td>RE Koertzen</td>\n",
       "      <td>GA Pratapkumar</td>\n",
       "    </tr>\n",
       "    <tr>\n",
       "      <th>21</th>\n",
       "      <td>336003</td>\n",
       "      <td>Chandigarh</td>\n",
       "      <td>2008-05-03</td>\n",
       "      <td>IK Pathan</td>\n",
       "      <td>Punjab Cricket Association Stadium, Mohali</td>\n",
       "      <td>0</td>\n",
       "      <td>Kings XI Punjab</td>\n",
       "      <td>Kolkata Knight Riders</td>\n",
       "      <td>Kings XI Punjab</td>\n",
       "      <td>bat</td>\n",
       "      <td>Kings XI Punjab</td>\n",
       "      <td>runs</td>\n",
       "      <td>9.0</td>\n",
       "      <td>N</td>\n",
       "      <td>NaN</td>\n",
       "      <td>DJ Harper</td>\n",
       "      <td>I Shivram</td>\n",
       "    </tr>\n",
       "    <tr>\n",
       "      <th>28</th>\n",
       "      <td>336010</td>\n",
       "      <td>Kolkata</td>\n",
       "      <td>2008-05-08</td>\n",
       "      <td>SC Ganguly</td>\n",
       "      <td>Eden Gardens</td>\n",
       "      <td>0</td>\n",
       "      <td>Kolkata Knight Riders</td>\n",
       "      <td>Royal Challengers Bangalore</td>\n",
       "      <td>Kolkata Knight Riders</td>\n",
       "      <td>bat</td>\n",
       "      <td>Kolkata Knight Riders</td>\n",
       "      <td>runs</td>\n",
       "      <td>5.0</td>\n",
       "      <td>N</td>\n",
       "      <td>NaN</td>\n",
       "      <td>Asad Rauf</td>\n",
       "      <td>IL Howell</td>\n",
       "    </tr>\n",
       "    <tr>\n",
       "      <th>...</th>\n",
       "      <td>...</td>\n",
       "      <td>...</td>\n",
       "      <td>...</td>\n",
       "      <td>...</td>\n",
       "      <td>...</td>\n",
       "      <td>...</td>\n",
       "      <td>...</td>\n",
       "      <td>...</td>\n",
       "      <td>...</td>\n",
       "      <td>...</td>\n",
       "      <td>...</td>\n",
       "      <td>...</td>\n",
       "      <td>...</td>\n",
       "      <td>...</td>\n",
       "      <td>...</td>\n",
       "      <td>...</td>\n",
       "      <td>...</td>\n",
       "    </tr>\n",
       "    <tr>\n",
       "      <th>802</th>\n",
       "      <td>1216538</td>\n",
       "      <td>Sharjah</td>\n",
       "      <td>2020-10-04</td>\n",
       "      <td>TA Boult</td>\n",
       "      <td>Sharjah Cricket Stadium</td>\n",
       "      <td>0</td>\n",
       "      <td>Mumbai Indians</td>\n",
       "      <td>Sunrisers Hyderabad</td>\n",
       "      <td>Mumbai Indians</td>\n",
       "      <td>bat</td>\n",
       "      <td>Mumbai Indians</td>\n",
       "      <td>runs</td>\n",
       "      <td>34.0</td>\n",
       "      <td>N</td>\n",
       "      <td>NaN</td>\n",
       "      <td>KN Ananthapadmanabhan</td>\n",
       "      <td>RK Illingworth</td>\n",
       "    </tr>\n",
       "    <tr>\n",
       "      <th>804</th>\n",
       "      <td>1216540</td>\n",
       "      <td>Sharjah</td>\n",
       "      <td>2020-10-12</td>\n",
       "      <td>AB de Villiers</td>\n",
       "      <td>Sharjah Cricket Stadium</td>\n",
       "      <td>0</td>\n",
       "      <td>Royal Challengers Bangalore</td>\n",
       "      <td>Kolkata Knight Riders</td>\n",
       "      <td>Royal Challengers Bangalore</td>\n",
       "      <td>bat</td>\n",
       "      <td>Royal Challengers Bangalore</td>\n",
       "      <td>runs</td>\n",
       "      <td>82.0</td>\n",
       "      <td>N</td>\n",
       "      <td>NaN</td>\n",
       "      <td>RK Illingworth</td>\n",
       "      <td>K Srinivasan</td>\n",
       "    </tr>\n",
       "    <tr>\n",
       "      <th>806</th>\n",
       "      <td>1216542</td>\n",
       "      <td>Dubai</td>\n",
       "      <td>2020-10-08</td>\n",
       "      <td>JM Bairstow</td>\n",
       "      <td>Dubai International Cricket Stadium</td>\n",
       "      <td>0</td>\n",
       "      <td>Sunrisers Hyderabad</td>\n",
       "      <td>Kings XI Punjab</td>\n",
       "      <td>Sunrisers Hyderabad</td>\n",
       "      <td>bat</td>\n",
       "      <td>Sunrisers Hyderabad</td>\n",
       "      <td>runs</td>\n",
       "      <td>69.0</td>\n",
       "      <td>N</td>\n",
       "      <td>NaN</td>\n",
       "      <td>AK Chaudhary</td>\n",
       "      <td>Nitin Menon</td>\n",
       "    </tr>\n",
       "    <tr>\n",
       "      <th>807</th>\n",
       "      <td>1216543</td>\n",
       "      <td>Dubai</td>\n",
       "      <td>2020-10-14</td>\n",
       "      <td>A Nortje</td>\n",
       "      <td>Dubai International Cricket Stadium</td>\n",
       "      <td>0</td>\n",
       "      <td>Delhi Capitals</td>\n",
       "      <td>Rajasthan Royals</td>\n",
       "      <td>Delhi Capitals</td>\n",
       "      <td>bat</td>\n",
       "      <td>Delhi Capitals</td>\n",
       "      <td>runs</td>\n",
       "      <td>13.0</td>\n",
       "      <td>N</td>\n",
       "      <td>NaN</td>\n",
       "      <td>AK Chaudhary</td>\n",
       "      <td>Nitin Menon</td>\n",
       "    </tr>\n",
       "    <tr>\n",
       "      <th>814</th>\n",
       "      <td>1237180</td>\n",
       "      <td>Abu Dhabi</td>\n",
       "      <td>2020-11-08</td>\n",
       "      <td>MP Stoinis</td>\n",
       "      <td>Sheikh Zayed Stadium</td>\n",
       "      <td>0</td>\n",
       "      <td>Delhi Capitals</td>\n",
       "      <td>Sunrisers Hyderabad</td>\n",
       "      <td>Delhi Capitals</td>\n",
       "      <td>bat</td>\n",
       "      <td>Delhi Capitals</td>\n",
       "      <td>runs</td>\n",
       "      <td>17.0</td>\n",
       "      <td>N</td>\n",
       "      <td>NaN</td>\n",
       "      <td>PR Reiffel</td>\n",
       "      <td>S Ravi</td>\n",
       "    </tr>\n",
       "  </tbody>\n",
       "</table>\n",
       "<p>146 rows × 17 columns</p>\n",
       "</div>"
      ],
      "text/plain": [
       "          id        city        date player_of_match  \\\n",
       "1     335983  Chandigarh  2008-04-19      MEK Hussey   \n",
       "14    335996   Bangalore  2008-04-28        MS Dhoni   \n",
       "18    336000      Jaipur  2008-05-01     SA Asnodkar   \n",
       "21    336003  Chandigarh  2008-05-03       IK Pathan   \n",
       "28    336010     Kolkata  2008-05-08      SC Ganguly   \n",
       "..       ...         ...         ...             ...   \n",
       "802  1216538     Sharjah  2020-10-04        TA Boult   \n",
       "804  1216540     Sharjah  2020-10-12  AB de Villiers   \n",
       "806  1216542       Dubai  2020-10-08     JM Bairstow   \n",
       "807  1216543       Dubai  2020-10-14        A Nortje   \n",
       "814  1237180   Abu Dhabi  2020-11-08      MP Stoinis   \n",
       "\n",
       "                                          venue  neutral_venue  \\\n",
       "1    Punjab Cricket Association Stadium, Mohali              0   \n",
       "14                        M Chinnaswamy Stadium              0   \n",
       "18                       Sawai Mansingh Stadium              0   \n",
       "21   Punjab Cricket Association Stadium, Mohali              0   \n",
       "28                                 Eden Gardens              0   \n",
       "..                                          ...            ...   \n",
       "802                     Sharjah Cricket Stadium              0   \n",
       "804                     Sharjah Cricket Stadium              0   \n",
       "806         Dubai International Cricket Stadium              0   \n",
       "807         Dubai International Cricket Stadium              0   \n",
       "814                        Sheikh Zayed Stadium              0   \n",
       "\n",
       "                           team1                        team2  \\\n",
       "1                Kings XI Punjab          Chennai Super Kings   \n",
       "14   Royal Challengers Bangalore          Chennai Super Kings   \n",
       "18              Rajasthan Royals        Kolkata Knight Riders   \n",
       "21               Kings XI Punjab        Kolkata Knight Riders   \n",
       "28         Kolkata Knight Riders  Royal Challengers Bangalore   \n",
       "..                           ...                          ...   \n",
       "802               Mumbai Indians          Sunrisers Hyderabad   \n",
       "804  Royal Challengers Bangalore        Kolkata Knight Riders   \n",
       "806          Sunrisers Hyderabad              Kings XI Punjab   \n",
       "807               Delhi Capitals             Rajasthan Royals   \n",
       "814               Delhi Capitals          Sunrisers Hyderabad   \n",
       "\n",
       "                     toss_winner toss_decision                       winner  \\\n",
       "1            Chennai Super Kings           bat          Chennai Super Kings   \n",
       "14           Chennai Super Kings           bat          Chennai Super Kings   \n",
       "18              Rajasthan Royals           bat             Rajasthan Royals   \n",
       "21               Kings XI Punjab           bat              Kings XI Punjab   \n",
       "28         Kolkata Knight Riders           bat        Kolkata Knight Riders   \n",
       "..                           ...           ...                          ...   \n",
       "802               Mumbai Indians           bat               Mumbai Indians   \n",
       "804  Royal Challengers Bangalore           bat  Royal Challengers Bangalore   \n",
       "806          Sunrisers Hyderabad           bat          Sunrisers Hyderabad   \n",
       "807               Delhi Capitals           bat               Delhi Capitals   \n",
       "814               Delhi Capitals           bat               Delhi Capitals   \n",
       "\n",
       "    result  result_margin eliminator method                umpire1  \\\n",
       "1     runs           33.0          N    NaN              MR Benson   \n",
       "14    runs           13.0          N    NaN            BR Doctrove   \n",
       "18    runs           45.0          N    NaN            RE Koertzen   \n",
       "21    runs            9.0          N    NaN              DJ Harper   \n",
       "28    runs            5.0          N    NaN              Asad Rauf   \n",
       "..     ...            ...        ...    ...                    ...   \n",
       "802   runs           34.0          N    NaN  KN Ananthapadmanabhan   \n",
       "804   runs           82.0          N    NaN         RK Illingworth   \n",
       "806   runs           69.0          N    NaN           AK Chaudhary   \n",
       "807   runs           13.0          N    NaN           AK Chaudhary   \n",
       "814   runs           17.0          N    NaN             PR Reiffel   \n",
       "\n",
       "            umpire2  \n",
       "1        SL Shastri  \n",
       "14        RB Tiffin  \n",
       "18   GA Pratapkumar  \n",
       "21        I Shivram  \n",
       "28        IL Howell  \n",
       "..              ...  \n",
       "802  RK Illingworth  \n",
       "804    K Srinivasan  \n",
       "806     Nitin Menon  \n",
       "807     Nitin Menon  \n",
       "814          S Ravi  \n",
       "\n",
       "[146 rows x 17 columns]"
      ]
     },
     "execution_count": 11,
     "metadata": {},
     "output_type": "execute_result"
    }
   ],
   "source": [
    "#extracting the recode where a team choose batting first and win the game\n",
    "toss_winner = ipl[ipl[\"toss_decision\"] == \"bat\"]\n",
    "toss_winner[toss_winner[\"result\"] == \"runs\"]"
   ]
  },
  {
   "cell_type": "code",
   "execution_count": 12,
   "id": "f12d1fae",
   "metadata": {},
   "outputs": [
    {
     "data": {
      "text/plain": [
       "Chennai Super Kings            55\n",
       "Mumbai Indians                 50\n",
       "Kolkata Knight Riders          38\n",
       "Rajasthan Royals               37\n",
       "Royal Challengers Bangalore    31\n",
       "Delhi Daredevils               29\n",
       "Kings XI Punjab                24\n",
       "Sunrisers Hyderabad            23\n",
       "Deccan Chargers                14\n",
       "Pune Warriors                   9\n",
       "Delhi Capitals                  5\n",
       "Rising Pune Supergiants         2\n",
       "Gujarat Lions                   2\n",
       "Name: winner, dtype: int64"
      ]
     },
     "execution_count": 12,
     "metadata": {},
     "output_type": "execute_result"
    }
   ],
   "source": [
    "#which team win more games after batting first\n",
    "toss_winner[\"winner\"].value_counts()"
   ]
  },
  {
   "cell_type": "code",
   "execution_count": 13,
   "id": "cf00064d",
   "metadata": {},
   "outputs": [],
   "source": [
    "tp_player = toss_winner[\"winner\"].value_counts()[:3]"
   ]
  },
  {
   "cell_type": "code",
   "execution_count": 14,
   "id": "f150bcc3",
   "metadata": {},
   "outputs": [
    {
     "data": {
      "text/plain": [
       "['Chennai Super Kings', 'Mumbai Indians', 'Kolkata Knight Riders']"
      ]
     },
     "execution_count": 14,
     "metadata": {},
     "output_type": "execute_result"
    }
   ],
   "source": [
    "player_keys = list(toss_winner[\"winner\"].value_counts()[:3].keys())\n",
    "player_keys"
   ]
  },
  {
   "cell_type": "code",
   "execution_count": 15,
   "id": "724c76c0",
   "metadata": {},
   "outputs": [
    {
     "data": {
      "image/png": "[encoded data removed]",
      "text/plain": [
       "<Figure size 432x432 with 1 Axes>"
      ]
     },
     "metadata": {
      "needs_background": "light"
     },
     "output_type": "display_data"
    }
   ],
   "source": [
    "#creating graph plot for top tier players\n",
    "\n",
    "plt.figure(figsize=(6,6))\n",
    "plt.bar(player_keys,tp_player,color = [\"yellow\",\"blue\",\"purple\"])\n",
    "plt.title(\"Top three player\")\n",
    "plt.xlabel(\"Teams\")\n",
    "plt.ylabel(\"Winnig matches\")\n",
    "plt.show()"
   ]
  },
  {
   "cell_type": "code",
   "execution_count": 16,
   "id": "509a3fff",
   "metadata": {},
   "outputs": [
    {
     "data": {
      "text/html": [
       "<div>\n",
       "<style scoped>\n",
       "    .dataframe tbody tr th:only-of-type {\n",
       "        vertical-align: middle;\n",
       "    }\n",
       "\n",
       "    .dataframe tbody tr th {\n",
       "        vertical-align: top;\n",
       "    }\n",
       "\n",
       "    .dataframe thead th {\n",
       "        text-align: right;\n",
       "    }\n",
       "</style>\n",
       "<table border=\"1\" class=\"dataframe\">\n",
       "  <thead>\n",
       "    <tr style=\"text-align: right;\">\n",
       "      <th></th>\n",
       "      <th>id</th>\n",
       "      <th>city</th>\n",
       "      <th>date</th>\n",
       "      <th>player_of_match</th>\n",
       "      <th>venue</th>\n",
       "      <th>neutral_venue</th>\n",
       "      <th>team1</th>\n",
       "      <th>team2</th>\n",
       "      <th>toss_winner</th>\n",
       "      <th>toss_decision</th>\n",
       "      <th>winner</th>\n",
       "      <th>result</th>\n",
       "      <th>result_margin</th>\n",
       "      <th>eliminator</th>\n",
       "      <th>method</th>\n",
       "      <th>umpire1</th>\n",
       "      <th>umpire2</th>\n",
       "    </tr>\n",
       "  </thead>\n",
       "  <tbody>\n",
       "    <tr>\n",
       "      <th>8</th>\n",
       "      <td>335990</td>\n",
       "      <td>Hyderabad</td>\n",
       "      <td>2008-04-24</td>\n",
       "      <td>YK Pathan</td>\n",
       "      <td>Rajiv Gandhi International Stadium, Uppal</td>\n",
       "      <td>0</td>\n",
       "      <td>Deccan Chargers</td>\n",
       "      <td>Rajasthan Royals</td>\n",
       "      <td>Rajasthan Royals</td>\n",
       "      <td>field</td>\n",
       "      <td>Rajasthan Royals</td>\n",
       "      <td>wickets</td>\n",
       "      <td>3.0</td>\n",
       "      <td>N</td>\n",
       "      <td>NaN</td>\n",
       "      <td>Asad Rauf</td>\n",
       "      <td>MR Benson</td>\n",
       "    </tr>\n",
       "    <tr>\n",
       "      <th>10</th>\n",
       "      <td>335992</td>\n",
       "      <td>Bangalore</td>\n",
       "      <td>2008-04-26</td>\n",
       "      <td>SR Watson</td>\n",
       "      <td>M Chinnaswamy Stadium</td>\n",
       "      <td>0</td>\n",
       "      <td>Royal Challengers Bangalore</td>\n",
       "      <td>Rajasthan Royals</td>\n",
       "      <td>Rajasthan Royals</td>\n",
       "      <td>field</td>\n",
       "      <td>Rajasthan Royals</td>\n",
       "      <td>wickets</td>\n",
       "      <td>7.0</td>\n",
       "      <td>N</td>\n",
       "      <td>NaN</td>\n",
       "      <td>MR Benson</td>\n",
       "      <td>IL Howell</td>\n",
       "    </tr>\n",
       "    <tr>\n",
       "      <th>12</th>\n",
       "      <td>335994</td>\n",
       "      <td>Mumbai</td>\n",
       "      <td>2008-04-27</td>\n",
       "      <td>AC Gilchrist</td>\n",
       "      <td>Dr DY Patil Sports Academy</td>\n",
       "      <td>0</td>\n",
       "      <td>Mumbai Indians</td>\n",
       "      <td>Deccan Chargers</td>\n",
       "      <td>Deccan Chargers</td>\n",
       "      <td>field</td>\n",
       "      <td>Deccan Chargers</td>\n",
       "      <td>wickets</td>\n",
       "      <td>10.0</td>\n",
       "      <td>N</td>\n",
       "      <td>NaN</td>\n",
       "      <td>Asad Rauf</td>\n",
       "      <td>SL Shastri</td>\n",
       "    </tr>\n",
       "    <tr>\n",
       "      <th>17</th>\n",
       "      <td>335999</td>\n",
       "      <td>Hyderabad</td>\n",
       "      <td>2008-05-01</td>\n",
       "      <td>SE Marsh</td>\n",
       "      <td>Rajiv Gandhi International Stadium, Uppal</td>\n",
       "      <td>0</td>\n",
       "      <td>Deccan Chargers</td>\n",
       "      <td>Kings XI Punjab</td>\n",
       "      <td>Kings XI Punjab</td>\n",
       "      <td>field</td>\n",
       "      <td>Kings XI Punjab</td>\n",
       "      <td>wickets</td>\n",
       "      <td>7.0</td>\n",
       "      <td>N</td>\n",
       "      <td>NaN</td>\n",
       "      <td>BR Doctrove</td>\n",
       "      <td>RB Tiffin</td>\n",
       "    </tr>\n",
       "    <tr>\n",
       "      <th>24</th>\n",
       "      <td>336006</td>\n",
       "      <td>Bangalore</td>\n",
       "      <td>2008-05-05</td>\n",
       "      <td>S Sreesanth</td>\n",
       "      <td>M Chinnaswamy Stadium</td>\n",
       "      <td>0</td>\n",
       "      <td>Royal Challengers Bangalore</td>\n",
       "      <td>Kings XI Punjab</td>\n",
       "      <td>Kings XI Punjab</td>\n",
       "      <td>field</td>\n",
       "      <td>Kings XI Punjab</td>\n",
       "      <td>wickets</td>\n",
       "      <td>6.0</td>\n",
       "      <td>N</td>\n",
       "      <td>NaN</td>\n",
       "      <td>SJ Davis</td>\n",
       "      <td>BR Doctrove</td>\n",
       "    </tr>\n",
       "    <tr>\n",
       "      <th>...</th>\n",
       "      <td>...</td>\n",
       "      <td>...</td>\n",
       "      <td>...</td>\n",
       "      <td>...</td>\n",
       "      <td>...</td>\n",
       "      <td>...</td>\n",
       "      <td>...</td>\n",
       "      <td>...</td>\n",
       "      <td>...</td>\n",
       "      <td>...</td>\n",
       "      <td>...</td>\n",
       "      <td>...</td>\n",
       "      <td>...</td>\n",
       "      <td>...</td>\n",
       "      <td>...</td>\n",
       "      <td>...</td>\n",
       "      <td>...</td>\n",
       "    </tr>\n",
       "    <tr>\n",
       "      <th>791</th>\n",
       "      <td>1216527</td>\n",
       "      <td>Sharjah</td>\n",
       "      <td>2020-09-27</td>\n",
       "      <td>SV Samson</td>\n",
       "      <td>Sharjah Cricket Stadium</td>\n",
       "      <td>0</td>\n",
       "      <td>Kings XI Punjab</td>\n",
       "      <td>Rajasthan Royals</td>\n",
       "      <td>Rajasthan Royals</td>\n",
       "      <td>field</td>\n",
       "      <td>Rajasthan Royals</td>\n",
       "      <td>wickets</td>\n",
       "      <td>4.0</td>\n",
       "      <td>N</td>\n",
       "      <td>NaN</td>\n",
       "      <td>RK Illingworth</td>\n",
       "      <td>K Srinivasan</td>\n",
       "    </tr>\n",
       "    <tr>\n",
       "      <th>799</th>\n",
       "      <td>1216535</td>\n",
       "      <td>Dubai</td>\n",
       "      <td>2020-10-31</td>\n",
       "      <td>Ishan Kishan</td>\n",
       "      <td>Dubai International Cricket Stadium</td>\n",
       "      <td>0</td>\n",
       "      <td>Delhi Capitals</td>\n",
       "      <td>Mumbai Indians</td>\n",
       "      <td>Mumbai Indians</td>\n",
       "      <td>field</td>\n",
       "      <td>Mumbai Indians</td>\n",
       "      <td>wickets</td>\n",
       "      <td>9.0</td>\n",
       "      <td>N</td>\n",
       "      <td>NaN</td>\n",
       "      <td>YC Barde</td>\n",
       "      <td>PR Reiffel</td>\n",
       "    </tr>\n",
       "    <tr>\n",
       "      <th>800</th>\n",
       "      <td>1216536</td>\n",
       "      <td>Dubai</td>\n",
       "      <td>2020-10-29</td>\n",
       "      <td>RD Gaikwad</td>\n",
       "      <td>Dubai International Cricket Stadium</td>\n",
       "      <td>0</td>\n",
       "      <td>Kolkata Knight Riders</td>\n",
       "      <td>Chennai Super Kings</td>\n",
       "      <td>Chennai Super Kings</td>\n",
       "      <td>field</td>\n",
       "      <td>Chennai Super Kings</td>\n",
       "      <td>wickets</td>\n",
       "      <td>6.0</td>\n",
       "      <td>N</td>\n",
       "      <td>NaN</td>\n",
       "      <td>C Shamshuddin</td>\n",
       "      <td>RK Illingworth</td>\n",
       "    </tr>\n",
       "    <tr>\n",
       "      <th>801</th>\n",
       "      <td>1216537</td>\n",
       "      <td>Abu Dhabi</td>\n",
       "      <td>2020-10-30</td>\n",
       "      <td>BA Stokes</td>\n",
       "      <td>Sheikh Zayed Stadium</td>\n",
       "      <td>0</td>\n",
       "      <td>Kings XI Punjab</td>\n",
       "      <td>Rajasthan Royals</td>\n",
       "      <td>Rajasthan Royals</td>\n",
       "      <td>field</td>\n",
       "      <td>Rajasthan Royals</td>\n",
       "      <td>wickets</td>\n",
       "      <td>7.0</td>\n",
       "      <td>N</td>\n",
       "      <td>NaN</td>\n",
       "      <td>CB Gaffaney</td>\n",
       "      <td>S Ravi</td>\n",
       "    </tr>\n",
       "    <tr>\n",
       "      <th>813</th>\n",
       "      <td>1237178</td>\n",
       "      <td>Abu Dhabi</td>\n",
       "      <td>2020-11-06</td>\n",
       "      <td>KS Williamson</td>\n",
       "      <td>Sheikh Zayed Stadium</td>\n",
       "      <td>0</td>\n",
       "      <td>Royal Challengers Bangalore</td>\n",
       "      <td>Sunrisers Hyderabad</td>\n",
       "      <td>Sunrisers Hyderabad</td>\n",
       "      <td>field</td>\n",
       "      <td>Sunrisers Hyderabad</td>\n",
       "      <td>wickets</td>\n",
       "      <td>6.0</td>\n",
       "      <td>N</td>\n",
       "      <td>NaN</td>\n",
       "      <td>PR Reiffel</td>\n",
       "      <td>S Ravi</td>\n",
       "    </tr>\n",
       "  </tbody>\n",
       "</table>\n",
       "<p>267 rows × 17 columns</p>\n",
       "</div>"
      ],
      "text/plain": [
       "          id       city        date player_of_match  \\\n",
       "8     335990  Hyderabad  2008-04-24       YK Pathan   \n",
       "10    335992  Bangalore  2008-04-26       SR Watson   \n",
       "12    335994     Mumbai  2008-04-27    AC Gilchrist   \n",
       "17    335999  Hyderabad  2008-05-01        SE Marsh   \n",
       "24    336006  Bangalore  2008-05-05     S Sreesanth   \n",
       "..       ...        ...         ...             ...   \n",
       "791  1216527    Sharjah  2020-09-27       SV Samson   \n",
       "799  1216535      Dubai  2020-10-31    Ishan Kishan   \n",
       "800  1216536      Dubai  2020-10-29      RD Gaikwad   \n",
       "801  1216537  Abu Dhabi  2020-10-30       BA Stokes   \n",
       "813  1237178  Abu Dhabi  2020-11-06   KS Williamson   \n",
       "\n",
       "                                         venue  neutral_venue  \\\n",
       "8    Rajiv Gandhi International Stadium, Uppal              0   \n",
       "10                       M Chinnaswamy Stadium              0   \n",
       "12                  Dr DY Patil Sports Academy              0   \n",
       "17   Rajiv Gandhi International Stadium, Uppal              0   \n",
       "24                       M Chinnaswamy Stadium              0   \n",
       "..                                         ...            ...   \n",
       "791                    Sharjah Cricket Stadium              0   \n",
       "799        Dubai International Cricket Stadium              0   \n",
       "800        Dubai International Cricket Stadium              0   \n",
       "801                       Sheikh Zayed Stadium              0   \n",
       "813                       Sheikh Zayed Stadium              0   \n",
       "\n",
       "                           team1                team2          toss_winner  \\\n",
       "8                Deccan Chargers     Rajasthan Royals     Rajasthan Royals   \n",
       "10   Royal Challengers Bangalore     Rajasthan Royals     Rajasthan Royals   \n",
       "12                Mumbai Indians      Deccan Chargers      Deccan Chargers   \n",
       "17               Deccan Chargers      Kings XI Punjab      Kings XI Punjab   \n",
       "24   Royal Challengers Bangalore      Kings XI Punjab      Kings XI Punjab   \n",
       "..                           ...                  ...                  ...   \n",
       "791              Kings XI Punjab     Rajasthan Royals     Rajasthan Royals   \n",
       "799               Delhi Capitals       Mumbai Indians       Mumbai Indians   \n",
       "800        Kolkata Knight Riders  Chennai Super Kings  Chennai Super Kings   \n",
       "801              Kings XI Punjab     Rajasthan Royals     Rajasthan Royals   \n",
       "813  Royal Challengers Bangalore  Sunrisers Hyderabad  Sunrisers Hyderabad   \n",
       "\n",
       "    toss_decision               winner   result  result_margin eliminator  \\\n",
       "8           field     Rajasthan Royals  wickets            3.0          N   \n",
       "10          field     Rajasthan Royals  wickets            7.0          N   \n",
       "12          field      Deccan Chargers  wickets           10.0          N   \n",
       "17          field      Kings XI Punjab  wickets            7.0          N   \n",
       "24          field      Kings XI Punjab  wickets            6.0          N   \n",
       "..            ...                  ...      ...            ...        ...   \n",
       "791         field     Rajasthan Royals  wickets            4.0          N   \n",
       "799         field       Mumbai Indians  wickets            9.0          N   \n",
       "800         field  Chennai Super Kings  wickets            6.0          N   \n",
       "801         field     Rajasthan Royals  wickets            7.0          N   \n",
       "813         field  Sunrisers Hyderabad  wickets            6.0          N   \n",
       "\n",
       "    method         umpire1         umpire2  \n",
       "8      NaN       Asad Rauf       MR Benson  \n",
       "10     NaN       MR Benson       IL Howell  \n",
       "12     NaN       Asad Rauf      SL Shastri  \n",
       "17     NaN     BR Doctrove       RB Tiffin  \n",
       "24     NaN        SJ Davis     BR Doctrove  \n",
       "..     ...             ...             ...  \n",
       "791    NaN  RK Illingworth    K Srinivasan  \n",
       "799    NaN        YC Barde      PR Reiffel  \n",
       "800    NaN   C Shamshuddin  RK Illingworth  \n",
       "801    NaN     CB Gaffaney          S Ravi  \n",
       "813    NaN      PR Reiffel          S Ravi  \n",
       "\n",
       "[267 rows x 17 columns]"
      ]
     },
     "execution_count": 16,
     "metadata": {},
     "output_type": "execute_result"
    }
   ],
   "source": [
    "#extracting the recode where a team choose fielding first and win the game\n",
    "toss_fd = ipl[ipl[\"toss_decision\"] == \"field\"]\n",
    "toss_fd[toss_fd[\"result\"] == \"wickets\" ]"
   ]
  },
  {
   "cell_type": "code",
   "execution_count": 17,
   "id": "e41622c4",
   "metadata": {},
   "outputs": [
    {
     "data": {
      "text/plain": [
       "Mumbai Indians                 70\n",
       "Kings XI Punjab                64\n",
       "Kolkata Knight Riders          61\n",
       "Royal Challengers Bangalore    60\n",
       "Chennai Super Kings            51\n",
       "Rajasthan Royals               44\n",
       "Sunrisers Hyderabad            43\n",
       "Delhi Daredevils               38\n",
       "Deccan Chargers                15\n",
       "Delhi Capitals                 14\n",
       "Gujarat Lions                  11\n",
       "Rising Pune Supergiant         10\n",
       "Kochi Tuskers Kerala            6\n",
       "Pune Warriors                   3\n",
       "Rising Pune Supergiants         3\n",
       "Name: winner, dtype: int64"
      ]
     },
     "execution_count": 17,
     "metadata": {},
     "output_type": "execute_result"
    }
   ],
   "source": [
    "##which team win more games after fielding first\n",
    "toss_fd['winner'].value_counts()"
   ]
  },
  {
   "cell_type": "code",
   "execution_count": 95,
   "id": "39c4d603",
   "metadata": {},
   "outputs": [
    {
     "name": "stderr",
     "output_type": "stream",
     "text": [
      "C:\\Users\\LENOVO\\anaconda3\\lib\\site-packages\\seaborn\\_decorators.py:36: FutureWarning: Pass the following variables as keyword args: x, y. From version 0.12, the only valid positional argument will be `data`, and passing other arguments without an explicit keyword will result in an error or misinterpretation.\n",
      "  warnings.warn(\n"
     ]
    },
    {
     "data": {
      "image/png": "[encoded data removed]",
      "text/plain": [
       "<Figure size 432x288 with 1 Axes>"
      ]
     },
     "metadata": {
      "needs_background": "light"
     },
     "output_type": "display_data"
    }
   ],
   "source": [
    "#Top 10 Venue of Most Matches\n",
    "ipl[\"venue\"].value_counts()[:10]\n",
    "sns.barplot(ipl[\"venue\"].value_counts()[:10].keys(),ipl[\"venue\"].value_counts()[:10])\n",
    "plt.xticks(rotation = 90)\n",
    "plt.show()"
   ]
  },
  {
   "cell_type": "code",
   "execution_count": 18,
   "id": "a7edf2dc",
   "metadata": {},
   "outputs": [],
   "source": [
    "toss_fd_keys = list(toss_fd['winner'].value_counts()[:3].keys())\n",
    "toss_fd_values = toss_fd['winner'].value_counts()[:3]"
   ]
  },
  {
   "cell_type": "code",
   "execution_count": 19,
   "id": "5a7ff68c",
   "metadata": {},
   "outputs": [
    {
     "data": {
      "image/png": "[encoded data removed]",
      "text/plain": [
       "<Figure size 432x432 with 1 Axes>"
      ]
     },
     "metadata": {
      "needs_background": "light"
     },
     "output_type": "display_data"
    }
   ],
   "source": [
    "plt.figure(figsize=(6,6))\n",
    "plt.bar(toss_fd_keys,toss_fd_values,color = [\"blue\",\"red\",'purple'])\n",
    "plt.title(\"Top three player\")\n",
    "plt.xlabel(\"Teams\")\n",
    "plt.ylabel(\"wins matches\")\n",
    "plt.show()"
   ]
  },
  {
   "cell_type": "code",
   "execution_count": 20,
   "id": "197090c8",
   "metadata": {},
   "outputs": [],
   "source": [
    "#making pie-chart for the team win more games after fielding first\n",
    "x = toss_fd['winner'].value_counts().keys()\n",
    "y = list(toss_fd['winner'].value_counts())"
   ]
  },
  {
   "cell_type": "code",
   "execution_count": 51,
   "id": "841e77ec",
   "metadata": {},
   "outputs": [
    {
     "data": {
      "image/png": "[encoded data removed]",
      "text/plain": [
       "<Figure size 720x720 with 1 Axes>"
      ]
     },
     "metadata": {},
     "output_type": "display_data"
    }
   ],
   "source": [
    "#making pie-chart for the team win more games after fielding first\n",
    "plt.figure(figsize=(10,10))\n",
    "plt.pie(y,labels = x,autopct='%.1f%%')\n",
    "plt.show()"
   ]
  },
  {
   "cell_type": "code",
   "execution_count": 23,
   "id": "69396740",
   "metadata": {},
   "outputs": [],
   "source": [
    "#changing date formate to year \n",
    "ipl[\"date\"] = pd.DatetimeIndex(ipl['date']).year"
   ]
  },
  {
   "cell_type": "code",
   "execution_count": 97,
   "id": "4d6f4117",
   "metadata": {},
   "outputs": [
    {
     "data": {
      "text/plain": [
       "<AxesSubplot:>"
      ]
     },
     "execution_count": 97,
     "metadata": {},
     "output_type": "execute_result"
    },
    {
     "data": {
      "image/png": "[encoded data removed]",
      "text/plain": [
       "<Figure size 432x288 with 1 Axes>"
      ]
     },
     "metadata": {
      "needs_background": "light"
     },
     "output_type": "display_data"
    }
   ],
   "source": [
    "#in which year ipl matches was played most\n",
    "ipl[\"date\"].value_counts().plot(kind = \"bar\")"
   ]
  },
  {
   "cell_type": "code",
   "execution_count": 85,
   "id": "3bdc847a",
   "metadata": {},
   "outputs": [
    {
     "data": {
      "image/png": "[encoded data removed]",
      "text/plain": [
       "<Figure size 720x720 with 1 Axes>"
      ]
     },
     "metadata": {
      "needs_background": "light"
     },
     "output_type": "display_data"
    }
   ],
   "source": [
    "#find which city the match played the most \n",
    "plt.figure(figsize=(10,10))\n",
    "ipl['city'].value_counts().plot(kind = \"bar\")\n",
    "plt.title(\"Popular City\")\n",
    "plt.xlabel(\"city\")\n",
    "plt.ylabel(\"No. of matches\")\n",
    "plt.show()"
   ]
  },
  {
   "cell_type": "code",
   "execution_count": 87,
   "id": "425c619a",
   "metadata": {},
   "outputs": [
    {
     "data": {
      "text/plain": [
       "True     418\n",
       "False    398\n",
       "dtype: int64"
      ]
     },
     "execution_count": 87,
     "metadata": {},
     "output_type": "execute_result"
    }
   ],
   "source": [
    "#finding out how many times a team has won the match after winning the toss\n",
    "tot = ipl[\"toss_winner\"] == ipl[\"winner\"]\n",
    "tot.value_counts()\n",
    "\n",
    "#418 many times a team has won the match after winning the toss\n"
   ]
  }
 ],
 "metadata": {
  "kernelspec": {
   "display_name": "Python 3 (ipykernel)",
   "language": "python",
   "name": "python3"
  },
  "language_info": {
   "codemirror_mode": {
    "name": "ipython",
    "version": 3
   },
   "file_extension": ".py",
   "mimetype": "text/x-python",
   "name": "python",
   "nbconvert_exporter": "python",
   "pygments_lexer": "ipython3",
   "version": "3.9.7"
  }
 },
 "nbformat": 4,
 "nbformat_minor": 5
}
